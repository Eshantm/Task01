{
  "nbformat": 4,
  "nbformat_minor": 0,
  "metadata": {
    "colab": {
      "name": "Task01.ipynb",
      "provenance": [],
      "collapsed_sections": []
    },
    "kernelspec": {
      "name": "python3",
      "display_name": "Python 3"
    },
    "language_info": {
      "name": "python"
    }
  },
  "cells": [
    {
      "cell_type": "markdown",
      "metadata": {
        "id": "7pBc5KiAQVy7"
      },
      "source": [
        "##NAME : ESHANT MAHALE\n",
        "##TASK 1: PREDICTION USING SUPERVISED ML ALGORITHM\n",
        "\n",
        "####TASK: Predicting the percentage of a student based on the number of hours of study and also predict the score if a student studies for 9.25 hours/day"
      ]
    },
    {
      "cell_type": "markdown",
      "metadata": {
        "id": "OCRrPigcULsg"
      },
      "source": [
        "#Data Loading"
      ]
    },
    {
      "cell_type": "code",
      "metadata": {
        "id": "pryqvoiiQdxG"
      },
      "source": [
        "#importing initial required libraries\n",
        "import pandas as pd\n",
        "import numpy as np\n",
        "import matplotlib.pyplot as plt\n",
        "%matplotlib inline"
      ],
      "execution_count": 2,
      "outputs": []
    },
    {
      "cell_type": "code",
      "metadata": {
        "colab": {
          "base_uri": "https://localhost:8080/",
          "height": 203
        },
        "id": "mFMj2h5DQ2lJ",
        "outputId": "74a02c3f-3781-4427-c38a-922ee1f313ed"
      },
      "source": [
        "#loading the dataset as a csv file\n",
        "url = \"http://bit.ly/w-data\"\n",
        "stu_data = pd.read_csv(url)\n",
        "stu_data.head()\n"
      ],
      "execution_count": 3,
      "outputs": [
        {
          "output_type": "execute_result",
          "data": {
            "text/html": [
              "<div>\n",
              "<style scoped>\n",
              "    .dataframe tbody tr th:only-of-type {\n",
              "        vertical-align: middle;\n",
              "    }\n",
              "\n",
              "    .dataframe tbody tr th {\n",
              "        vertical-align: top;\n",
              "    }\n",
              "\n",
              "    .dataframe thead th {\n",
              "        text-align: right;\n",
              "    }\n",
              "</style>\n",
              "<table border=\"1\" class=\"dataframe\">\n",
              "  <thead>\n",
              "    <tr style=\"text-align: right;\">\n",
              "      <th></th>\n",
              "      <th>Hours</th>\n",
              "      <th>Scores</th>\n",
              "    </tr>\n",
              "  </thead>\n",
              "  <tbody>\n",
              "    <tr>\n",
              "      <th>0</th>\n",
              "      <td>2.5</td>\n",
              "      <td>21</td>\n",
              "    </tr>\n",
              "    <tr>\n",
              "      <th>1</th>\n",
              "      <td>5.1</td>\n",
              "      <td>47</td>\n",
              "    </tr>\n",
              "    <tr>\n",
              "      <th>2</th>\n",
              "      <td>3.2</td>\n",
              "      <td>27</td>\n",
              "    </tr>\n",
              "    <tr>\n",
              "      <th>3</th>\n",
              "      <td>8.5</td>\n",
              "      <td>75</td>\n",
              "    </tr>\n",
              "    <tr>\n",
              "      <th>4</th>\n",
              "      <td>3.5</td>\n",
              "      <td>30</td>\n",
              "    </tr>\n",
              "  </tbody>\n",
              "</table>\n",
              "</div>"
            ],
            "text/plain": [
              "   Hours  Scores\n",
              "0    2.5      21\n",
              "1    5.1      47\n",
              "2    3.2      27\n",
              "3    8.5      75\n",
              "4    3.5      30"
            ]
          },
          "metadata": {
            "tags": []
          },
          "execution_count": 3
        }
      ]
    },
    {
      "cell_type": "code",
      "metadata": {
        "colab": {
          "base_uri": "https://localhost:8080/"
        },
        "id": "F7FNyGHOSqun",
        "outputId": "7d67037b-25c8-4f7c-bd76-eb7d9f5d55fa"
      },
      "source": [
        "stu_data.shape"
      ],
      "execution_count": 4,
      "outputs": [
        {
          "output_type": "execute_result",
          "data": {
            "text/plain": [
              "(25, 2)"
            ]
          },
          "metadata": {
            "tags": []
          },
          "execution_count": 4
        }
      ]
    },
    {
      "cell_type": "markdown",
      "metadata": {
        "id": "2qEmi9W0S8ae"
      },
      "source": [
        "\n",
        " Thus we have data for 25 students with 2 columns , one showing the number of hours of study and second showing its corresponding score.\n",
        "\n",
        "\n"
      ]
    },
    {
      "cell_type": "code",
      "metadata": {
        "colab": {
          "base_uri": "https://localhost:8080/"
        },
        "id": "1zTEc0gpTRUR",
        "outputId": "02672abf-750d-45b7-9da3-1ed70de0ca46"
      },
      "source": [
        "#checking for any null values in the dataset\n",
        "stu_data.isnull().sum()"
      ],
      "execution_count": 5,
      "outputs": [
        {
          "output_type": "execute_result",
          "data": {
            "text/plain": [
              "Hours     0\n",
              "Scores    0\n",
              "dtype: int64"
            ]
          },
          "metadata": {
            "tags": []
          },
          "execution_count": 5
        }
      ]
    },
    {
      "cell_type": "markdown",
      "metadata": {
        "id": "suLBNOotUXUJ"
      },
      "source": [
        "No null values is present, thus no imputation/removal required "
      ]
    },
    {
      "cell_type": "markdown",
      "metadata": {
        "id": "pT1YRhsRUe22"
      },
      "source": [
        "#Data Visualisation"
      ]
    },
    {
      "cell_type": "code",
      "metadata": {
        "colab": {
          "base_uri": "https://localhost:8080/",
          "height": 295
        },
        "id": "cFxTkXNFUk0m",
        "outputId": "3d87af7c-6534-4605-c513-669bab89a965"
      },
      "source": [
        "#plotting a scatter plot of original dataset \n",
        "stu_data.plot(x='Hours', y='Scores', style='o')  \n",
        "plt.title('Hours vs Percentage Scores')  \n",
        "plt.xlabel('Hours Studied')  \n",
        "plt.ylabel('Percentage Score')  \n",
        "plt.show()"
      ],
      "execution_count": 6,
      "outputs": [
        {
          "output_type": "display_data",
          "data": {
            "image/png": "[encoded data removed]",
            "text/plain": [
              "<Figure size 432x288 with 1 Axes>"
            ]
          },
          "metadata": {
            "tags": [],
            "needs_background": "light"
          }
        }
      ]
    },
    {
      "cell_type": "markdown",
      "metadata": {
        "id": "ftlFP3zuU8cT"
      },
      "source": [
        "From the above graph its evident that the hours and percentage has roughly a linear relationship , thus we can use Linear Regression technique for prediction, and the graph also implies there are no potential outliers present."
      ]
    },
    {
      "cell_type": "markdown",
      "metadata": {
        "id": "ZahCIwcDVXnv"
      },
      "source": [
        "#Linear Regression Model"
      ]
    },
    {
      "cell_type": "markdown",
      "metadata": {
        "id": "_btYRcuWVyAh"
      },
      "source": [
        "First we will divide the data into the row and column variable and split it into training and test sets using Scikit learn library."
      ]
    },
    {
      "cell_type": "code",
      "metadata": {
        "colab": {
          "base_uri": "https://localhost:8080/"
        },
        "id": "DQ2ihlAyWEKz",
        "outputId": "1719aada-09f7-4455-de82-c9b2ffe1acb1"
      },
      "source": [
        "x=stu_data[['Hours']] #predictor variables\n",
        "y=stu_data['Scores']  #variable to be predicted\n",
        "from sklearn.model_selection import train_test_split\n",
        "x_train,x_test,y_train,y_test = train_test_split(x,y,test_size=0.25,random_state=0) \n",
        "x_train.shape,x_test.shape,y_train.shape,y_test.shape"
      ],
      "execution_count": 7,
      "outputs": [
        {
          "output_type": "execute_result",
          "data": {
            "text/plain": [
              "((18, 1), (7, 1), (18,), (7,))"
            ]
          },
          "metadata": {
            "tags": []
          },
          "execution_count": 7
        }
      ]
    },
    {
      "cell_type": "markdown",
      "metadata": {
        "id": "j1lHv6KrXfvR"
      },
      "source": [
        "Thus we can see that the original data is split into training and test (25 percent split) , that is 18 in training and 7 in test of the 25 entries in the orginal data.\n",
        "Next we will prepare a Linear Regression model and feed out training set to train our model."
      ]
    },
    {
      "cell_type": "code",
      "metadata": {
        "colab": {
          "base_uri": "https://localhost:8080/"
        },
        "id": "0gh5yPSTX57Z",
        "outputId": "68da91a1-c822-4513-e790-ffa41463c8a2"
      },
      "source": [
        "from sklearn.linear_model import LinearRegression  \n",
        "Regressor = LinearRegression()\n",
        "Regressor.fit(x_train,y_train) #using the training dataset to train the model\n",
        "\n",
        "# Now we will determine the coefficents of linear regression model , that is y= C0*x + C1 (C0 = coefficent and C1=intercept)\n",
        "print(Regressor.coef_,Regressor.intercept_)"
      ],
      "execution_count": 8,
      "outputs": [
        {
          "output_type": "stream",
          "text": [
            "[9.94167834] 1.9322042531516601\n"
          ],
          "name": "stdout"
        }
      ]
    },
    {
      "cell_type": "markdown",
      "metadata": {
        "id": "1ltmFFO7ZV9q"
      },
      "source": [
        "Thus we have our regression fit line as **y=9.94*x + 1.932**\n",
        "Now we will plot this fit line on our original dataset to see how good is the fit visually"
      ]
    },
    {
      "cell_type": "code",
      "metadata": {
        "colab": {
          "base_uri": "https://localhost:8080/",
          "height": 295
        },
        "id": "9LD2akLoaGKu",
        "outputId": "21fdf28c-e74f-4ac6-e557-41ac0088f0a9"
      },
      "source": [
        "#plotting the regression fit line on the initial scatter plot\n",
        "fit_line = Regressor.coef_*x+Regressor.intercept_\n",
        "\n",
        "plt.scatter(x,y)\n",
        "plt.plot(x,fit_line)\n",
        "plt.title('Hours vs Percentage Scores')  \n",
        "plt.xlabel('Hours Studied')  \n",
        "plt.ylabel('Percentage Score')\n",
        "plt.show()"
      ],
      "execution_count": 9,
      "outputs": [
        {
          "output_type": "display_data",
          "data": {
            "image/png": "[encoded data removed]",
            "text/plain": [
              "<Figure size 432x288 with 1 Axes>"
            ]
          },
          "metadata": {
            "tags": [],
            "needs_background": "light"
          }
        }
      ]
    },
    {
      "cell_type": "markdown",
      "metadata": {
        "id": "J7E42lrMauH5"
      },
      "source": [
        "Thus the graph shows the fit line we got from the regression model correctly shows the relationship between the parameters.\n",
        "\n",
        "Now we will verify our result by predicting values for the test dataset and seeing the  **MAE test value** "
      ]
    },
    {
      "cell_type": "markdown",
      "metadata": {
        "id": "YWsu4djdccEU"
      },
      "source": [
        "#Predicting values"
      ]
    },
    {
      "cell_type": "code",
      "metadata": {
        "colab": {
          "base_uri": "https://localhost:8080/",
          "height": 282
        },
        "id": "SJLnU5JHcf2n",
        "outputId": "d3ffa704-934c-40f0-8491-0ff395e9d6a9"
      },
      "source": [
        "from sklearn import metrics \n",
        "#predicting the values on test set\n",
        "y_pred = Regressor.predict(x_test) #using the test set for prediction\n",
        "print('Mean Absolute Error:', metrics.mean_absolute_error(y_test, y_pred)) #generating the Mean Absolute Error (MAE) for the model\n",
        "\n",
        "#Comparing the predicted value and the actual value\n",
        "df_compare = pd.DataFrame({'Actual': y_test, 'Predicted': y_pred}) \n",
        "df_compare \n"
      ],
      "execution_count": 10,
      "outputs": [
        {
          "output_type": "stream",
          "text": [
            "Mean Absolute Error: 4.130879918502482\n"
          ],
          "name": "stdout"
        },
        {
          "output_type": "execute_result",
          "data": {
            "text/html": [
              "<div>\n",
              "<style scoped>\n",
              "    .dataframe tbody tr th:only-of-type {\n",
              "        vertical-align: middle;\n",
              "    }\n",
              "\n",
              "    .dataframe tbody tr th {\n",
              "        vertical-align: top;\n",
              "    }\n",
              "\n",
              "    .dataframe thead th {\n",
              "        text-align: right;\n",
              "    }\n",
              "</style>\n",
              "<table border=\"1\" class=\"dataframe\">\n",
              "  <thead>\n",
              "    <tr style=\"text-align: right;\">\n",
              "      <th></th>\n",
              "      <th>Actual</th>\n",
              "      <th>Predicted</th>\n",
              "    </tr>\n",
              "  </thead>\n",
              "  <tbody>\n",
              "    <tr>\n",
              "      <th>5</th>\n",
              "      <td>20</td>\n",
              "      <td>16.844722</td>\n",
              "    </tr>\n",
              "    <tr>\n",
              "      <th>2</th>\n",
              "      <td>27</td>\n",
              "      <td>33.745575</td>\n",
              "    </tr>\n",
              "    <tr>\n",
              "      <th>19</th>\n",
              "      <td>69</td>\n",
              "      <td>75.500624</td>\n",
              "    </tr>\n",
              "    <tr>\n",
              "      <th>16</th>\n",
              "      <td>30</td>\n",
              "      <td>26.786400</td>\n",
              "    </tr>\n",
              "    <tr>\n",
              "      <th>11</th>\n",
              "      <td>62</td>\n",
              "      <td>60.588106</td>\n",
              "    </tr>\n",
              "    <tr>\n",
              "      <th>22</th>\n",
              "      <td>35</td>\n",
              "      <td>39.710582</td>\n",
              "    </tr>\n",
              "    <tr>\n",
              "      <th>17</th>\n",
              "      <td>24</td>\n",
              "      <td>20.821393</td>\n",
              "    </tr>\n",
              "  </tbody>\n",
              "</table>\n",
              "</div>"
            ],
            "text/plain": [
              "    Actual  Predicted\n",
              "5       20  16.844722\n",
              "2       27  33.745575\n",
              "19      69  75.500624\n",
              "16      30  26.786400\n",
              "11      62  60.588106\n",
              "22      35  39.710582\n",
              "17      24  20.821393"
            ]
          },
          "metadata": {
            "tags": []
          },
          "execution_count": 10
        }
      ]
    },
    {
      "cell_type": "markdown",
      "metadata": {
        "id": "WwwVKL_tp0sK"
      },
      "source": [
        "We got our predicted values, as we can see our predicted values are very closer to the actual values. We also got the Mean Absolute Error as **4.1308** , lower the value of MAE better the model.\n",
        "Now we will also check our model using two other parameters i.e MSE and R-Squared values , similarly lower the value of RSQuared and MSE better the model."
      ]
    },
    {
      "cell_type": "code",
      "metadata": {
        "colab": {
          "base_uri": "https://localhost:8080/"
        },
        "id": "M2VF3rgNqeDT",
        "outputId": "269565b8-0d5d-4255-f73f-c513bf7636ae"
      },
      "source": [
        "print('Mean Squared Error:', metrics.mean_squared_error(y_test, y_pred))\n",
        "print('RSquared value:', Regressor.score(x_test, y_test))"
      ],
      "execution_count": 13,
      "outputs": [
        {
          "output_type": "stream",
          "text": [
            "Mean Squared Error: 20.33292367497996\n",
            "RSquared value: 0.9367661043365056\n"
          ],
          "name": "stdout"
        }
      ]
    },
    {
      "cell_type": "markdown",
      "metadata": {
        "id": "fEYlx1Qmdqz8"
      },
      "source": [
        "#Predicting the Score for 9.5 hours"
      ]
    },
    {
      "cell_type": "code",
      "metadata": {
        "colab": {
          "base_uri": "https://localhost:8080/"
        },
        "id": "A4ttqDQ9bVca",
        "outputId": "edd7b2eb-050f-453d-97f4-bd89edd9cdf8"
      },
      "source": [
        "#Predicting the percentage score for \"9.25\" hours using the model we build above\n",
        "hours = [[9.25]]\n",
        "new_pred = Regressor.predict(hours)\n",
        "print(\"No of Hours of Study = {}\".format(hours))\n",
        "print(\"Predicted Percentage Score = {}\".format(new_pred[0]))"
      ],
      "execution_count": 14,
      "outputs": [
        {
          "output_type": "stream",
          "text": [
            "No of Hours of Study = [[9.25]]\n",
            "Predicted Percentage Score = 93.89272889341652\n"
          ],
          "name": "stdout"
        }
      ]
    },
    {
      "cell_type": "markdown",
      "metadata": {
        "id": "acj0wpoIevo8"
      },
      "source": [
        "**Conclusion** : Therefore We got the percentage score of the student who studies for 9.25 hours to be **93.893%**"
      ]
    }
  ]
}